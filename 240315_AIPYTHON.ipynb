{
  "nbformat": 4,
  "nbformat_minor": 0,
  "metadata": {
    "colab": {
      "provenance": []
    },
    "kernelspec": {
      "name": "python3",
      "display_name": "Python 3"
    },
    "language_info": {
      "name": "python"
    }
  },
  "cells": [
    {
      "cell_type": "markdown",
      "source": [
        "**두 수를 입력받아서 합을 출력하는 프로그램**"
      ],
      "metadata": {
        "id": "myFuT5Ol_0qF"
      }
    },
    {
      "cell_type": "code",
      "execution_count": 1,
      "metadata": {
        "colab": {
          "base_uri": "https://localhost:8080/"
        },
        "id": "PiEGzg6w-ZxN",
        "outputId": "455ec52c-45b3-48f4-b22e-8018e24a2df5"
      },
      "outputs": [
        {
          "output_type": "stream",
          "name": "stdout",
          "text": [
            "두 정수를 입력하세요 (띄어쓰기로 구분): 1 2\n",
            "두 정수의 합은: 3\n"
          ]
        }
      ],
      "source": [
        "A, B = map(int, input(\"두 정수를 입력하세요 (띄어쓰기로 구분): \").split())\n",
        "result = A + B\n",
        "print(\"두 정수의 합은:\", result)\n"
      ]
    },
    {
      "cell_type": "code",
      "source": [
        "print(\"Hello Python\")"
      ],
      "metadata": {
        "colab": {
          "base_uri": "https://localhost:8080/"
        },
        "id": "G-T5EZKT_eM1",
        "outputId": "deccfe8e-ebf3-48ef-ba94-5920a13bd49b"
      },
      "execution_count": 2,
      "outputs": [
        {
          "output_type": "stream",
          "name": "stdout",
          "text": [
            "Hello Python\n"
          ]
        }
      ]
    },
    {
      "cell_type": "code",
      "source": [],
      "metadata": {
        "id": "-mlSwAc9_lVc"
      },
      "execution_count": null,
      "outputs": []
    }
  ]
}