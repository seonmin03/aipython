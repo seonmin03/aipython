{
  "nbformat": 4,
  "nbformat_minor": 0,
  "metadata": {
    "colab": {
      "provenance": []
    },
    "kernelspec": {
      "name": "python3",
      "display_name": "Python 3"
    },
    "language_info": {
      "name": "python"
    }
  },
  "cells": [
    {
      "cell_type": "code",
      "execution_count": null,
      "metadata": {
        "id": "dWcyVfujRVRP"
      },
      "outputs": [],
      "source": [
        "import numpy as np\n",
        "from sklearn import linear_model\n",
        "import matplotlib.pyplot as plt\n",
        "\n",
        "regr=linear_model.LinearRegression()\n",
        "\n",
        "x=[[164], [179], [162], [170]]\n",
        "y=[53, 63, 55, 59]\n",
        "regr.fit(x, y)\n",
        "\n",
        "plt.scatter(x, y)\n",
        "y_pred=regr.predict(x)\n",
        "\n",
        "plt.plot(x, y_pred, color='blue', linewidth=3)\n",
        "plt.show()"
      ]
    },
    {
      "cell_type": "code",
      "source": [
        "score=regr.score(x, y)\n",
        "print(\"the score of this line for the data: \", score) #1에 가까울수록 예측성능이 뛰어남"
      ],
      "metadata": {
        "id": "VuTyDCDFUCTO"
      },
      "execution_count": null,
      "outputs": []
    },
    {
      "cell_type": "code",
      "source": [
        "input_data=[[480],[185]]\n",
        "result=regr.predict(input_data)\n",
        "print(result)"
      ],
      "metadata": {
        "id": "aq2m-Y9kUPZ-"
      },
      "execution_count": null,
      "outputs": []
    },
    {
      "cell_type": "code",
      "source": [
        "x=[[2.1], [10], [3], [1], [3.5], [5], [8]] #데이터입력\n",
        "y=[64.9, 292.6, 85.9, 30.92, 110.5, 163.4, 163.4]\n",
        "regr.fit(x, y) #선형모델 학습\n",
        "plt.scatter(x, y)\n",
        "y_pred=regr.predict(x)\n",
        "print(y_pred)\n",
        "plt.plot(x, y_pred, color='blue', linewidth=3)\n",
        "plt.show()\n",
        "prd=regr.predict([[7], [12]]) #x값이 7일 때, 12일 때 예측되는 y값을 인출\n",
        "prd"
      ],
      "metadata": {
        "id": "omC6uQJVVBYw"
      },
      "execution_count": null,
      "outputs": []
    },
    {
      "cell_type": "code",
      "source": [
        "#from sklearn import linear_model\n",
        "#regr=linear_model.LinearRegression\n",
        "from sklearn.linear_model import LinearRegression\n",
        "#같은 표현"
      ],
      "metadata": {
        "id": "akxR3nPpXRw2"
      },
      "execution_count": null,
      "outputs": []
    },
    {
      "cell_type": "code",
      "source": [
        "from sklearn import tree #from sklearn.tree import DecisionTreeClassifier (1, 4열 합친 것)\n",
        "parents_height=[[180, 165], [175, 160], [180, 172], [165, 160], [171, 152]]\n",
        "child_height=[3, 2, 2, 1, 1]\n",
        "dt_model=tree.DecisionTreeClassifier()\n",
        "dt_model.fit(parents_height, child_height)\n",
        "dt_pred=dt_model.predict([[175, 160]])\n",
        "dt_pred"
      ],
      "metadata": {
        "id": "EyVlf3WkZ9-L"
      },
      "execution_count": null,
      "outputs": []
    },
    {
      "cell_type": "code",
      "source": [
        "#student marks\n",
        "import pandas as pd\n",
        "std_df=pd.read_csv('Student_Marks.csv')\n",
        "std_df"
      ],
      "metadata": {
        "id": "zwChd-NJbPyO"
      },
      "execution_count": null,
      "outputs": []
    },
    {
      "cell_type": "code",
      "source": [
        "std_df.describe()"
      ],
      "metadata": {
        "id": "RhOaDg9ahaFj"
      },
      "execution_count": null,
      "outputs": []
    },
    {
      "cell_type": "code",
      "source": [
        "std_df.info()"
      ],
      "metadata": {
        "id": "HqKS-grjhftM"
      },
      "execution_count": null,
      "outputs": []
    },
    {
      "cell_type": "code",
      "source": [
        "std_df.head()"
      ],
      "metadata": {
        "id": "3uDoPCSIhnZc"
      },
      "execution_count": null,
      "outputs": []
    },
    {
      "cell_type": "code",
      "source": [
        "std_df.tail()"
      ],
      "metadata": {
        "id": "AoT64pWVhuT2"
      },
      "execution_count": null,
      "outputs": []
    },
    {
      "cell_type": "code",
      "source": [
        "std_df.corr() #time_study랑 marks랑 상관관계가 보임"
      ],
      "metadata": {
        "id": "PY1BaIs0hwOO"
      },
      "execution_count": null,
      "outputs": []
    },
    {
      "cell_type": "code",
      "source": [
        "import matplotlib.pyplot as plt\n",
        "import seaborn as sns\n",
        "\n",
        "fig, ax=plt.subplots(ncols=2, figsize=(12, 6))\n",
        "sns.scatterplot(data=std_df, x='number_courses', y='Marks', ax=ax[0])\n",
        "sns.scatterplot(data=std_df, x='time_study', y='Marks', ax=ax[1])"
      ],
      "metadata": {
        "id": "D8gLqWAqh4Tu"
      },
      "execution_count": null,
      "outputs": []
    },
    {
      "cell_type": "code",
      "source": [
        "from sklearn.model_selection import train_test_split\n",
        "x=std_df.drop('Marks', axis=1) #marks를 제외한 나머지 데이터를 x 데이터로 잡음\n",
        "y=std_df['Marks'] #marks를 y 데이터로 잡음\n",
        "x_train, x_test, y_train, y_test=train_test_split(x, y, test_size=0.2, random_state=42) # random_state=42 코드 실행할 때마다 동일한 결과 획득 가능"
      ],
      "metadata": {
        "id": "bcGBRuJ7ixWX"
      },
      "execution_count": 19,
      "outputs": []
    },
    {
      "cell_type": "code",
      "source": [
        "from sklearn.linear_model import LinearRegression\n",
        "lr_model=LinearRegression()\n",
        "lr_model.fit(x_train, y_train) #선형모델 학습"
      ],
      "metadata": {
        "id": "ob-p6Px4jWHf"
      },
      "execution_count": null,
      "outputs": []
    },
    {
      "cell_type": "code",
      "source": [
        "from sklearn.metrics import r2_score\n",
        "from sklearn.metrics import mean_squared_error\n",
        "\n",
        "lr_pred=lr_model.predict(x_test) #테스트 데이터로 예측값 시험해보는 것\n",
        "r2_score(lr_pred, y_test)\n",
        "mean_squared_error(lr_pred, y_test) #오차가 어느정도 되는지 알아보는 코드, 비교대상이 없어서 좋은 값인지 어떤지는 판단 불가능이긴 한데 높을수록 좋음"
      ],
      "metadata": {
        "id": "_PG5zBd0kBvg"
      },
      "execution_count": null,
      "outputs": []
    },
    {
      "cell_type": "code",
      "source": [
        "import matplotlib.pyplot as plt\n",
        "import seaborn as sns\n",
        "\n",
        "sns.regplot(x=std_df['time_study'], y=std_df['Marks'])\n",
        "plt.show()"
      ],
      "metadata": {
        "id": "CyrLtICdkw-W"
      },
      "execution_count": null,
      "outputs": []
    }
  ]
}