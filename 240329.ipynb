{
  "nbformat": 4,
  "nbformat_minor": 0,
  "metadata": {
    "colab": {
      "provenance": []
    },
    "kernelspec": {
      "name": "python3",
      "display_name": "Python 3"
    },
    "language_info": {
      "name": "python"
    }
  },
  "cells": [
    {
      "cell_type": "markdown",
      "source": [
        "## **1. 분을 입력받아서 시간과 분을 출력하시오.**"
      ],
      "metadata": {
        "id": "kG-JltReBbl5"
      }
    },
    {
      "cell_type": "code",
      "source": [
        "a=int(input(\"분을 입력하세요: \"))\n",
        "h = a // 60\n",
        "m = a % 60\n",
        "print(\"{:d}분 -> {:d}시간 {:d}분\".format(a, h, m))"
      ],
      "metadata": {
        "colab": {
          "base_uri": "https://localhost:8080/"
        },
        "id": "HP95pz4xBgTY",
        "outputId": "3fea0205-23aa-4ba6-b3f6-e36b4c672552"
      },
      "execution_count": 28,
      "outputs": [
        {
          "output_type": "stream",
          "name": "stdout",
          "text": [
            "분을 입력하세요: 669\n",
            "669분 -> 11시간 9분\n"
          ]
        }
      ]
    },
    {
      "cell_type": "markdown",
      "source": [
        "## **2. 섭씨 온도를 입력받아서 화씨온도를 출력하시오.**"
      ],
      "metadata": {
        "id": "0SymtIYSCYvY"
      }
    },
    {
      "cell_type": "code",
      "source": [
        "a=int(input(\"섭씨온도를 입력하세요: \"))\n",
        "f=a*1.8+32\n",
        "print(\"섭씨 %d도는 화씨 %.1f도입니다.\"%(a, f))\n"
      ],
      "metadata": {
        "colab": {
          "base_uri": "https://localhost:8080/"
        },
        "id": "4TifUR3bCcwI",
        "outputId": "0b020b94-dc85-4e7e-f859-227e01d7cdda"
      },
      "execution_count": 23,
      "outputs": [
        {
          "output_type": "stream",
          "name": "stdout",
          "text": [
            "섭씨온도를 입력하세요: 31\n",
            "섭씨 31도는 화씨 87.8도입니다.\n"
          ]
        }
      ]
    },
    {
      "cell_type": "markdown",
      "source": [
        "## **3. 원의 반지름을 입력받아서 원의 둘레와 면적을 출력하시오.(PI=3.14)**"
      ],
      "metadata": {
        "id": "l8KhqqdwC4Fe"
      }
    },
    {
      "cell_type": "code",
      "source": [
        "PI=3.14\n",
        "r=int(input(\"원의 반지름을 입력하세요: \"))\n",
        "round=2*r*PI\n",
        "area=(r**2)*PI\n",
        "print(\"반지름이 %d인 원의 둘레는 %.1f이고 면적은 %.1f입니다\"%(r, round, area))"
      ],
      "metadata": {
        "colab": {
          "base_uri": "https://localhost:8080/"
        },
        "id": "cUrte-FQDBxX",
        "outputId": "bb21e25a-6787-4a17-b808-bf2ab5693c2d"
      },
      "execution_count": 27,
      "outputs": [
        {
          "output_type": "stream",
          "name": "stdout",
          "text": [
            "원의 반지름을 입력하세요: 15\n",
            "반지름이 15인 원의 둘레는 94.2이고 면적은 706.5입니다\n"
          ]
        }
      ]
    }
  ]
}