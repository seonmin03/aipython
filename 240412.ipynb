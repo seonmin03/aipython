{
  "nbformat": 4,
  "nbformat_minor": 0,
  "metadata": {
    "colab": {
      "provenance": []
    },
    "kernelspec": {
      "name": "python3",
      "display_name": "Python 3"
    },
    "language_info": {
      "name": "python"
    }
  },
  "cells": [
    {
      "cell_type": "code",
      "execution_count": null,
      "metadata": {
        "id": "GqBBZ4ze9nds"
      },
      "outputs": [],
      "source": [
        "fruits=[\"banana\", \"apple\", \"orange\", \"cherry\"]\n",
        "fruits[1]"
      ]
    },
    {
      "cell_type": "code",
      "source": [
        "numbers=[10, 20, 30, 40, 50]\n",
        "numbers[4] #numbers[-1]도 가능"
      ],
      "metadata": {
        "id": "3UGMTQDFC6ca"
      },
      "execution_count": null,
      "outputs": []
    },
    {
      "cell_type": "code",
      "source": [
        "fruits=[\"apple\", \"banana\", \"cherry\"]\n",
        "fruits[1]=\"grape\"\n",
        "fruits"
      ],
      "metadata": {
        "id": "pbs1yo0VDCRh"
      },
      "execution_count": null,
      "outputs": []
    },
    {
      "cell_type": "code",
      "source": [
        "fruits=[\"apple\", \"banana\", \"cherry\"]\n",
        "fruits.append(\"strawberry\")\n",
        "fruits"
      ],
      "metadata": {
        "id": "dZp_s4xzDUlu"
      },
      "execution_count": null,
      "outputs": []
    },
    {
      "cell_type": "code",
      "source": [
        "numbers=[10, 20, 30, 40, 50]\n",
        "numbers.pop(2)\n",
        "numbers"
      ],
      "metadata": {
        "id": "2DPTuZZ2DgCW"
      },
      "execution_count": null,
      "outputs": []
    },
    {
      "cell_type": "code",
      "source": [
        "numbers=[5, 10, 15, 20, 25]\n",
        "len(numbers)"
      ],
      "metadata": {
        "id": "cJqeczP2Dwjp"
      },
      "execution_count": null,
      "outputs": []
    },
    {
      "cell_type": "code",
      "source": [
        "numbers=[10, 5, 8, 3, 15]\n",
        "print(min(numbers), max(numbers), end=' ')"
      ],
      "metadata": {
        "id": "Bms3VOYnD6ZR"
      },
      "execution_count": null,
      "outputs": []
    },
    {
      "cell_type": "code",
      "source": [
        "numbers=[10, 20, 30, 40, 50]\n",
        "sum(numbers)"
      ],
      "metadata": {
        "id": "faCl0dKGEIKa"
      },
      "execution_count": null,
      "outputs": []
    },
    {
      "cell_type": "code",
      "source": [
        "numbers=[1, 2, 3, 4, 5]\n",
        "a=[]\n",
        "for i in numbers:\n",
        "  a.append(i**2)\n",
        "print(a)"
      ],
      "metadata": {
        "id": "Kh0tSkgVE6e6"
      },
      "execution_count": null,
      "outputs": []
    },
    {
      "cell_type": "code",
      "source": [
        "def square(x): #함수 정의\n",
        "  newlist=[]\n",
        "  for i in x:\n",
        "    newlist.append(i**2)\n",
        "  return newlist   # 값 변환\n",
        "square([1, 2, 3, 4, 5])   #함수 호출"
      ],
      "metadata": {
        "id": "kmWNtaWjMq0h"
      },
      "execution_count": null,
      "outputs": []
    },
    {
      "cell_type": "code",
      "source": [
        "fruits=[\"apple\", \"banana\", \"apple\", \"cherry\", \"apple\"]\n",
        "fruits.count(\"apple\")"
      ],
      "metadata": {
        "id": "jdG5oaVmENgD"
      },
      "execution_count": null,
      "outputs": []
    },
    {
      "cell_type": "code",
      "source": [
        "def square(x): #함수의 정의\n",
        "  return x**2  #result=x**2; return result 도 가능, 값을 반환\n",
        "square(3)  #함수의 호출"
      ],
      "metadata": {
        "id": "xkpSp5A1LR4I"
      },
      "execution_count": null,
      "outputs": []
    },
    {
      "cell_type": "code",
      "source": [
        "def BMI(h, w):\n",
        "  height=h*0.01\n",
        "  bmi=w/(height**2)\n",
        "  return bmi\n",
        "BMI(170, 70)"
      ],
      "metadata": {
        "id": "wjWMBoLoOzB4"
      },
      "execution_count": null,
      "outputs": []
    }
  ]
}