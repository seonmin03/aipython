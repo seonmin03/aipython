{
  "nbformat": 4,
  "nbformat_minor": 0,
  "metadata": {
    "colab": {
      "provenance": []
    },
    "kernelspec": {
      "name": "python3",
      "display_name": "Python 3"
    },
    "language_info": {
      "name": "python"
    }
  },
  "cells": [
    {
      "cell_type": "code",
      "execution_count": null,
      "metadata": {
        "id": "hhoJE5clOoeT"
      },
      "outputs": [],
      "source": [
        "import pandas as pd\n",
        "df=pd.read_csv('penguins.csv')\n",
        "df.info()"
      ]
    },
    {
      "cell_type": "code",
      "source": [
        "df.isna().sum()"
      ],
      "metadata": {
        "id": "xuA7lb_qPcd4"
      },
      "execution_count": null,
      "outputs": []
    },
    {
      "cell_type": "code",
      "source": [
        "#중복값 처리\n",
        "df[df.duplicated()]\n",
        "df2=df.drop_duplicates()\n",
        "df2"
      ],
      "metadata": {
        "id": "pTKOZdaQQL5Y"
      },
      "execution_count": null,
      "outputs": []
    },
    {
      "cell_type": "code",
      "source": [
        "df.describe()\n",
        "df.sort_values(by=['flipper_length_mm'], ascending=False)\n",
        "import matplotlib.pyplot as plt\n",
        "plt.scatter(x=df['flipper_length_mm'], y=df['bill_depth_mm'])\n",
        "plt.show()"
      ],
      "metadata": {
        "id": "jLJFibEmQbTg"
      },
      "execution_count": null,
      "outputs": []
    },
    {
      "cell_type": "code",
      "source": [
        "#이상치 확인 및 정제\n",
        "from sklearn.datasets import load_wine\n",
        "wine_load=load_wine()\n",
        "wine=pd.DataFrame(wine_load.data, columns=wine_load.feature_names)\n",
        "wine['Class']=wine_load.target\n",
        "wine['Class']=wine['Class'].map({0:'class_0', 1:'class_1', 2:'class_2'})\n",
        "print(wine.head())\n",
        "plt.boxplot(wine['color_intensity'], whis=1.5)\n",
        "plt.title('colot intensity')\n",
        "plt.show()"
      ],
      "metadata": {
        "id": "uwlgiCLgRN1R"
      },
      "execution_count": null,
      "outputs": []
    },
    {
      "cell_type": "code",
      "source": [
        "import numpy as np\n",
        "quartile_1, quartile_3=np.percentile(wine['color_intensity'], [25, 75])\n",
        "iqr = quartile_3 - quartile_1\n",
        "upper_whis=quartile_3 + 1.5*iqr\n",
        "lower_whis=quartile_3 - 1.5*iqr\n",
        "outliers=wine['color_intensity'][(wine['color_intensity']>upper_whis)|(wine['color_intensity']<lower_whis)]\n",
        "print(outliers)\n",
        "print(outliers.index)"
      ],
      "metadata": {
        "id": "rVUZ9eaNTNgY"
      },
      "execution_count": null,
      "outputs": []
    },
    {
      "cell_type": "code",
      "source": [
        "drop_outliers=wine.drop(index=outliers.index)\n",
        "print('outliers: ', wine.shape)\n",
        "print('drop outliers: ', drop_outliers.shape)"
      ],
      "metadata": {
        "id": "BTznQ2jGVMW3"
      },
      "execution_count": null,
      "outputs": []
    },
    {
      "cell_type": "code",
      "source": [
        "wine.loc[outliers.index, 'color_intensity'] = wine['color_intensity'].dropna().mean()\n",
        "wine.loc[outliers.index, 'color_intensity']"
      ],
      "metadata": {
        "id": "CmhLZGaDVrY3"
      },
      "execution_count": null,
      "outputs": []
    }
  ]
}