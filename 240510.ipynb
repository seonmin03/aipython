{
  "nbformat": 4,
  "nbformat_minor": 0,
  "metadata": {
    "colab": {
      "provenance": []
    },
    "kernelspec": {
      "name": "python3",
      "display_name": "Python 3"
    },
    "language_info": {
      "name": "python"
    }
  },
  "cells": [
    {
      "cell_type": "code",
      "source": [
        "import pandas as pd\n",
        "date=[[1, 'Alice'], [2, 'Bob'], [3, \"Charlie\"]]\n",
        "df=pd.DataFrame(date, columns=['ID', 'Name'])\n",
        "df"
      ],
      "metadata": {
        "id": "bZMK1QH7Ip3y"
      },
      "execution_count": null,
      "outputs": []
    },
    {
      "cell_type": "code",
      "source": [
        "import pandas as pd\n",
        "df=pd.read_csv('data.csv', encoding='UTF-8')\n",
        "df"
      ],
      "metadata": {
        "id": "VPuGEfS3LNgA"
      },
      "execution_count": null,
      "outputs": []
    },
    {
      "cell_type": "code",
      "source": [
        "import pandas as pd\n",
        "df=pd.read_csv('train.csv')\n",
        "df"
      ],
      "metadata": {
        "id": "6sSk0UXTN4zI"
      },
      "execution_count": null,
      "outputs": []
    },
    {
      "cell_type": "code",
      "source": [
        "import pandas as pd\n",
        "url='https://raw.githubusercontent.com/Datamanim/pandas/main/lol.csv' #파일 이름이 너무 길면 변수로 지정해서 사용하는 것이 더 좋음\n",
        "df=pd.read_csv(url, delimiter='\\t')\n",
        "df"
      ],
      "metadata": {
        "id": "88AjiVUdOzqg"
      },
      "execution_count": null,
      "outputs": []
    },
    {
      "cell_type": "code",
      "source": [
        "import pandas as pd\n",
        "df=pd.read_excel('BoxOffice.xlsx', index_col=0)\n",
        "df"
      ],
      "metadata": {
        "id": "2iXJ-2iDRDXS"
      },
      "execution_count": null,
      "outputs": []
    },
    {
      "cell_type": "code",
      "source": [
        "import pandas as pd\n",
        "df=pd.read_excel('data.xlsx')\n",
        "df2=df[['반', '확인여부']] #원하는 부분의 열을 골라서 새로운 데이터프레임을 만들어서 사용할 수 있음\n",
        "df[1:4] #원하는 부분의 행을 골라서 볼 수 있음"
      ],
      "metadata": {
        "id": "xoInTl3dWWmQ"
      },
      "execution_count": null,
      "outputs": []
    },
    {
      "cell_type": "code",
      "source": [
        "import pandas as pd\n",
        "df=pd.read_excel('data.xlsx')\n",
        "df80=df[df['국어']>80]\n",
        "df80"
      ],
      "metadata": {
        "id": "7khh7VUPZAfo"
      },
      "execution_count": null,
      "outputs": []
    },
    {
      "cell_type": "code",
      "source": [
        "import pandas as pd\n",
        "df=pd.read_excel('data.xlsx')\n",
        "df2=df.sort_values(by=['국어'], ascending=False)\n",
        "df2"
      ],
      "metadata": {
        "id": "RurmJMKqaoVo"
      },
      "execution_count": null,
      "outputs": []
    },
    {
      "cell_type": "code",
      "source": [
        "import pandas as pd\n",
        "df=pd.DataFrame({'학생':['John', 'Alice', 'Bob', 'Emily'],\n",
        "                 '수학':[90, 87, 78, 92],\n",
        "                 '영어':[85, 91, 80, 88],\n",
        "                 '과학':[88, 89, 85, 82]})\n",
        "df.describe()"
      ],
      "metadata": {
        "id": "6nhCy2EFbsv4"
      },
      "execution_count": null,
      "outputs": []
    },
    {
      "cell_type": "code",
      "source": [
        "df2=[df['수학']==df['수학'].max()] #수학점수 젤 높은 사람\n",
        "print(df2)"
      ],
      "metadata": {
        "id": "8YGCnTbvgSXo"
      },
      "execution_count": null,
      "outputs": []
    },
    {
      "cell_type": "code",
      "source": [
        "df3=df[df['수학']>=90]\n",
        "df3"
      ],
      "metadata": {
        "id": "QmTAMh2AgULv"
      },
      "execution_count": null,
      "outputs": []
    },
    {
      "cell_type": "code",
      "source": [
        "import pandas as pd\n",
        "df=pd.read_excel('BoxOffice.xlsx', index_col=0)\n",
        "df.info() #1\n",
        "df.value_counts('대표국적') #2\n",
        "df[df['대표국적']=='영국'] #3\n",
        "df.groupby('대표국적')['순위'].min()"
      ],
      "metadata": {
        "id": "E-nV7juvhmot",
        "collapsed": true
      },
      "execution_count": null,
      "outputs": []
    }
  ]
}