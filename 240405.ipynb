{
  "nbformat": 4,
  "nbformat_minor": 0,
  "metadata": {
    "colab": {
      "provenance": []
    },
    "kernelspec": {
      "name": "python3",
      "display_name": "Python 3"
    },
    "language_info": {
      "name": "python"
    }
  },
  "cells": [
    {
      "cell_type": "code",
      "execution_count": null,
      "metadata": {
        "id": "FUGk9fqx3p2s"
      },
      "outputs": [],
      "source": [
        "a=5\n",
        "if a>5:\n",
        "  print(\"a는 5보다 크다\")\n",
        "print(\"프로그램 종료\")"
      ]
    },
    {
      "cell_type": "code",
      "source": [
        "a=int(input(\"숫자를 입력하세요: \"))\n",
        "if a>5:\n",
        "  print(\"a는 5보다 크다\")\n",
        "elif a<5:\n",
        "  print(\"a는 5보다 작다\")\n",
        "else:\n",
        "  print(\"a는 5다\")"
      ],
      "metadata": {
        "id": "CsOOxWsy5GPT"
      },
      "execution_count": null,
      "outputs": []
    },
    {
      "cell_type": "markdown",
      "source": [
        "#a에 할당된 값의 짝수 홀수 여부를 알려주는 프로그램"
      ],
      "metadata": {
        "id": "RDUipLCK5mDb"
      }
    },
    {
      "cell_type": "code",
      "source": [
        "a=int(input(\"숫자를 입력하세요: \"))\n",
        "if a%2==0:\n",
        "  print(\"%d는 짝수입니다.\"%a)\n",
        "elif a%2==1:\n",
        "  print(\"%d는 홀수입니다.\"%a)"
      ],
      "metadata": {
        "id": "3IKlRDUf5ToT"
      },
      "execution_count": null,
      "outputs": []
    },
    {
      "cell_type": "code",
      "source": [
        "a=int(input(\"숫자를 입력하세요: \"))\n",
        "if a%2==0:\n",
        "  print(\"%d는 짝수입니다.\"%a)\n",
        "else:\n",
        "  print(\"%d는 홀수입니다.\"%a)"
      ],
      "metadata": {
        "id": "nnWXfjc86tmD"
      },
      "execution_count": null,
      "outputs": []
    },
    {
      "cell_type": "code",
      "source": [
        "a=10\n",
        "b=5\n",
        "if a>5:\n",
        "  if b<10:\n",
        "    print(\"a는 5보다 크고 b는 10보다 작다\")"
      ],
      "metadata": {
        "id": "RzG8WCwD8qm9"
      },
      "execution_count": null,
      "outputs": []
    },
    {
      "cell_type": "code",
      "source": [
        "a=10\n",
        "b=5\n",
        "if a>5 and b<10:\n",
        "  print(\"a는 5보다 크고 b는 10보다 작다\")"
      ],
      "metadata": {
        "id": "iObhLzzU9eRT"
      },
      "execution_count": null,
      "outputs": []
    },
    {
      "cell_type": "markdown",
      "source": [
        "#0~100 사이의 점수를 받아서 학점 출력하기"
      ],
      "metadata": {
        "id": "wuaSDpYJ91Ar"
      }
    },
    {
      "cell_type": "code",
      "source": [
        "a=int(input(\"점수를 입력하세요: \"))\n",
        "if a>=90:\n",
        "  print(\"학점은 A입니다\")\n",
        "elif a>=80:\n",
        "  print(\"학점은 B입니다\")\n",
        "elif a>=70:\n",
        "  print(\"학점은 C입니다\")\n",
        "elif a>=60:\n",
        "  print(\"학점은 D입니다\")\n",
        "else:\n",
        "  print(\"학점은 F입니다\")\n",
        "#순서를 지켜서 코드를 작성해야함\n",
        "#위에서 참이 생길 경우 그 밑의 코드블럭은 실행하지 않기 때문\n",
        "#구간을 정확하게 지정할 경우엔 순서 상관없음 근데 순서 지켜서 쓰는 게 더 편할 듯"
      ],
      "metadata": {
        "id": "sAypA78499Sr"
      },
      "execution_count": null,
      "outputs": []
    },
    {
      "cell_type": "code",
      "source": [
        "a=[1, 2, 3, 4, 5, 6, 7, 8, 9, 10]\n",
        "total=0\n",
        "for i in a:\n",
        "  print(i)\n",
        "  total+=i\n",
        "print(total)"
      ],
      "metadata": {
        "id": "Uh_vFSNOEyQD"
      },
      "execution_count": null,
      "outputs": []
    },
    {
      "cell_type": "code",
      "source": [
        "for i in range(11):\n",
        "  print(i)"
      ],
      "metadata": {
        "id": "IeAL9zo5G1f0"
      },
      "execution_count": null,
      "outputs": []
    },
    {
      "cell_type": "markdown",
      "source": [
        "#1~100사이의 홀수/짝수"
      ],
      "metadata": {
        "id": "LAEHABlMINoE"
      }
    },
    {
      "cell_type": "code",
      "source": [
        "for i in range(1, 101, 2):\n",
        "  print(i)"
      ],
      "metadata": {
        "id": "3kXLBVSpIRC8"
      },
      "execution_count": null,
      "outputs": []
    },
    {
      "cell_type": "code",
      "source": [
        "for i in range(2, 101, 2):\n",
        "  print(i)"
      ],
      "metadata": {
        "id": "KpmtyyH9Ijrj"
      },
      "execution_count": null,
      "outputs": []
    },
    {
      "cell_type": "code",
      "source": [
        "for i in range(1, 101):\n",
        "  if i%2==0:\n",
        "    continue #짝수일 경우 continue 때문에 출력되지 않고 다음 숫자로 넘어가서 홀수만 출력되는 구조\n",
        "  print(i)"
      ],
      "metadata": {
        "id": "VH2z3OeTJT9M"
      },
      "execution_count": null,
      "outputs": []
    },
    {
      "cell_type": "code",
      "source": [
        "for i in range(1, 101):\n",
        "  if i%2==0:\n",
        "    break #짝수가 나오는 순간 break 때문에 그 뒤에 숫자까지 다 안 나오게 됨\n",
        "  print(i)"
      ],
      "metadata": {
        "id": "J90aOE_VKI_8"
      },
      "execution_count": null,
      "outputs": []
    },
    {
      "cell_type": "markdown",
      "source": [
        "#1~10까지의 홀수끼리의 합와 짝수끼리의 합"
      ],
      "metadata": {
        "id": "TrtTdBNhKxm7"
      }
    },
    {
      "cell_type": "code",
      "source": [
        "total_1=0\n",
        "total_0=0\n",
        "for i in range(1, 11):\n",
        "  if i%2==1:\n",
        "    total_1+=i\n",
        "  else:\n",
        "    total_0+=i\n",
        "print(total_1)\n",
        "print(total_0)"
      ],
      "metadata": {
        "id": "gOAP_X0qKwvc"
      },
      "execution_count": null,
      "outputs": []
    },
    {
      "cell_type": "markdown",
      "source": [
        "#하나의 숫자 n를 입력 받아서 1부터 n까지 합을 구하는 프로그램을 작성하시오."
      ],
      "metadata": {
        "id": "ktGUKDZ0N3ss"
      }
    },
    {
      "cell_type": "code",
      "source": [
        "n=int(input(\"숫자를 입력하세요: \"))\n",
        "total=0\n",
        "for i in range(1, n+1):\n",
        "  total+=i\n",
        "print(total)"
      ],
      "metadata": {
        "colab": {
          "base_uri": "https://localhost:8080/"
        },
        "id": "N2Za9g9cN1LO",
        "outputId": "08e3f98a-3b80-466e-a97f-c860234ef1fd"
      },
      "execution_count": 64,
      "outputs": [
        {
          "output_type": "stream",
          "name": "stdout",
          "text": [
            "숫자를 입력하세요: 10\n",
            "55\n"
          ]
        }
      ]
    }
  ]
}