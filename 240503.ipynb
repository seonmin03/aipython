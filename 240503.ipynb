{
  "nbformat": 4,
  "nbformat_minor": 0,
  "metadata": {
    "colab": {
      "provenance": []
    },
    "kernelspec": {
      "name": "python3",
      "display_name": "Python 3"
    },
    "language_info": {
      "name": "python"
    }
  },
  "cells": [
    {
      "cell_type": "markdown",
      "source": [
        "#1부터 10까지(미포함)의 2걸음 크기의 정수값 배열을 생성해보자"
      ],
      "metadata": {
        "id": "e-kDVsYxT8f1"
      }
    },
    {
      "cell_type": "code",
      "execution_count": 5,
      "metadata": {
        "colab": {
          "base_uri": "https://localhost:8080/"
        },
        "id": "fnFWTz0VT6Fs",
        "outputId": "4bceef74-5638-45f7-967d-64bd8dc8296d"
      },
      "outputs": [
        {
          "output_type": "stream",
          "name": "stdout",
          "text": [
            "[1 3 5 7 9]\n"
          ]
        }
      ],
      "source": [
        "import numpy as np\n",
        "arr=np.arange(1, 10, 2)\n",
        "print(arr)"
      ]
    },
    {
      "cell_type": "markdown",
      "source": [
        "#모양이 (3, 4)인 모든 값이 1인 배열을 생성해보자"
      ],
      "metadata": {
        "id": "VHMVY-1OUUGl"
      }
    },
    {
      "cell_type": "code",
      "source": [
        "import numpy as np\n",
        "arr=np.ones((3, 4))\n",
        "print(arr)"
      ],
      "metadata": {
        "colab": {
          "base_uri": "https://localhost:8080/"
        },
        "id": "Z0FzNMNWUP3W",
        "outputId": "5f6218b7-5eed-4a61-bf10-0adc85ef3993"
      },
      "execution_count": 2,
      "outputs": [
        {
          "output_type": "stream",
          "name": "stdout",
          "text": [
            "[[1. 1. 1. 1.]\n",
            " [1. 1. 1. 1.]\n",
            " [1. 1. 1. 1.]]\n"
          ]
        }
      ]
    },
    {
      "cell_type": "markdown",
      "source": [
        "#0과 1 사이를 10등분하고자 할 때 등분값 배열을 생성해보자"
      ],
      "metadata": {
        "id": "fFB5zHrLUqLr"
      }
    },
    {
      "cell_type": "code",
      "source": [
        "import numpy as np\n",
        "arr=np.linspace(0, 1, 10)\n",
        "print(arr)"
      ],
      "metadata": {
        "colab": {
          "base_uri": "https://localhost:8080/"
        },
        "id": "xfqyb7OhUp9E",
        "outputId": "3a846d10-a49f-4cb6-c7a0-defe6e3f9cb5"
      },
      "execution_count": 3,
      "outputs": [
        {
          "output_type": "stream",
          "name": "stdout",
          "text": [
            "[0.         0.11111111 0.22222222 0.33333333 0.44444444 0.55555556\n",
            " 0.66666667 0.77777778 0.88888889 1.        ]\n"
          ]
        }
      ]
    },
    {
      "cell_type": "code",
      "source": [
        "#A행렬을 생성해보자\n",
        "import numpy as np\n",
        "A = np.array([[ 1, 2, 3, 4, 5],[ 6, 7, 8, 9, 10],[11, 12, 13, 14, 15],[16, 17, 18, 19, 20],[21, 22, 23, 24, 25]])\n",
        "#A의 모양을 출력해보자\n",
        "print('shape=', A.shape)\n",
        "#19값을 출력해보자\n",
        "print(A[3, 3])\n",
        "#슬라이싱을 이용하여 [[1, 2], [6, 7]]값을 추출해보자\n",
        "print(A[0:2, 0:2])\n",
        "#슬라이싱을 이용하여[[19, 20], [24, 25]]값을 추출해보자\n",
        "print(A[3:5, 3:5])\n",
        "#슬라이싱을 이용하여 0축의 첫 번째 행과 두 번째 행을 추출해보자\n",
        "print(A[])\n",
        "#슬라이싱을 이용하여 1축의 마지막 열과 마지막 직전 열을 추출해보자\n",
        "print(A[])"
      ],
      "metadata": {
        "colab": {
          "base_uri": "https://localhost:8080/"
        },
        "id": "TJg0aTmuXfBM",
        "outputId": "a7448f0a-0712-42eb-e3c5-225c1212ba0f"
      },
      "execution_count": 30,
      "outputs": [
        {
          "output_type": "stream",
          "name": "stdout",
          "text": [
            "shape= (5, 5)\n",
            "19\n",
            "[[1 2]\n",
            " [6 7]]\n",
            "[[19 20]\n",
            " [24 25]]\n",
            "[[16 17 18 19 20]\n",
            " [21 22 23 24 25]]\n"
          ]
        }
      ]
    },
    {
      "cell_type": "code",
      "source": [
        "import numpy as np\n",
        "A=np.array([[[1, 2, 3, 4], [5, 6, 7, 8], [9, 10, 11, 12]], [[13, 14, 15, 16], [17, 18, 19, 20], [21, 22, 23, 24]], [[25, 26, 27, 28], [29, 30, 31, 32], [33, 34, 35, 36]]])\n",
        "#모양과 크기 출력\n",
        "print(A.shape, A.size)\n",
        "#(3, 4, 3)으로 모양 변경\n",
        "B=A.reshape(3, 4, 3)\n",
        "print(B)\n",
        "#1차원으로 변경\n",
        "C=A.flatten()\n",
        "print(C)"
      ],
      "metadata": {
        "colab": {
          "base_uri": "https://localhost:8080/"
        },
        "id": "LLOe6zt7bvKK",
        "outputId": "2952854f-1346-4a29-f58f-056bf848c5af"
      },
      "execution_count": 36,
      "outputs": [
        {
          "output_type": "stream",
          "name": "stdout",
          "text": [
            "(3, 3, 4) 36\n",
            "[[[ 1  2  3]\n",
            "  [ 4  5  6]\n",
            "  [ 7  8  9]\n",
            "  [10 11 12]]\n",
            "\n",
            " [[13 14 15]\n",
            "  [16 17 18]\n",
            "  [19 20 21]\n",
            "  [22 23 24]]\n",
            "\n",
            " [[25 26 27]\n",
            "  [28 29 30]\n",
            "  [31 32 33]\n",
            "  [34 35 36]]]\n",
            "[ 1  2  3  4  5  6  7  8  9 10 11 12 13 14 15 16 17 18 19 20 21 22 23 24\n",
            " 25 26 27 28 29 30 31 32 33 34 35 36]\n"
          ]
        }
      ]
    }
  ]
}